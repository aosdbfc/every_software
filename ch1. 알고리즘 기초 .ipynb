{
 "cells": [
  {
   "cell_type": "markdown",
   "id": "5cadf60c",
   "metadata": {},
   "source": [
    "# 자료구조와 알고리즘 with python\n",
    "\n",
    "## chapter 1. 알고리즘 기초 "
   ]
  },
  {
   "cell_type": "code",
   "execution_count": 1,
   "id": "b7c9fe56",
   "metadata": {},
   "outputs": [
    {
     "name": "stdout",
     "output_type": "stream",
     "text": [
      "세 정수의 최댓값을 구합니다.\n",
      "정수 a의 값을 입력하세요:2023\n",
      "정수 b의 값을 입력하세요:1\n",
      "정수 c의 값을 입력하세요:10\n",
      "최댓값은 2023입니다.\n"
     ]
    }
   ],
   "source": [
    "# 세 정수 값의 최댓값 구하기 (1-1)\n",
    "\n",
    "print('세 정수의 최댓값을 구합니다.')\n",
    "a = int(input('정수 a의 값을 입력하세요:'))\n",
    "b = int(input('정수 b의 값을 입력하세요:'))\n",
    "c = int(input('정수 c의 값을 입력하세요:'))\n",
    "\n",
    "# if 문 \n",
    "maximum = a\n",
    "if b > maximum: maximum = b\n",
    "if c > maximum: maximum = c\n",
    "    \n",
    "print(f'최댓값은 {maximum}입니다.')  # f-strinf 포맷팅 사용 "
   ]
  },
  {
   "cell_type": "markdown",
   "id": "28139994",
   "metadata": {},
   "source": [
    "maximum = a\n",
    "if b > maximum: maximum = b\n",
    "if c > maximum: maximum = c\n",
    "\n",
    "다음 행에서는 순차적으로 실행됩니다. 이렇게 한 문장씩 순서대로 처리되는 구조를 \n",
    "순차 구조라고 합니다. \n",
    "\n",
    "if문으로 구성된 것은 복합문이며, :(콜론)이 있는 식은 조건식 입니다.\n",
    "\n",
    "조건식으로 평가한 결과에 따라 프로그램의 실행 흐름이 변경되는데 \n",
    "\n",
    "이러한 구조를 선택 구조라고 합니다."
   ]
  },
  {
   "cell_type": "markdown",
   "id": "aac04e71",
   "metadata": {},
   "source": [
    "### 복합문의 구조\n",
    "if 문이나 while 문 등 복합문의 첫 부분은 if나 while 같은 키워드로 시작하여 :(콜론)으로 끝납니다. \n",
    "\n",
    "이 부분을 헤더(header)라고 합니다. 헤더의 마지막 콜론은 '바로 뒤에 스위트가 이어집니다'를 의미합니다.\n"
   ]
  },
  {
   "cell_type": "code",
   "execution_count": 3,
   "id": "02ca5b4c",
   "metadata": {},
   "outputs": [
    {
     "name": "stdout",
     "output_type": "stream",
     "text": [
      "maxi(3,2,1) = 3\n",
      "maxi(3,2,2) = 3\n",
      "maxi(3,1,2) = 3\n",
      "maxi(3,2,3) = 3\n",
      "maxi(2,1,3) = 3\n",
      "maxi(3,3,2) = 3\n",
      "maxi(3,3,3) = 3\n",
      "maxi(2,2,3) = 3\n",
      "maxi(2,3,1) = 3\n",
      "maxi(2,3,2) = 3\n",
      "maxi(1,3,2) = 3\n",
      "maxi(2,3,3) = 3\n",
      "maxi(1,2,3) = 3\n"
     ]
    }
   ],
   "source": [
    "# 세 정수 값의 최댓값 구하기 (1-2)\n",
    "\n",
    "def maxi(a,b,c):\n",
    "    maximum = a\n",
    "    if b > maximum: maximum = b\n",
    "    if c > maximum: maximum = c\n",
    "    return maximum\n",
    "\n",
    "print(f'maxi(3,2,1) = {maxi(3,2,1)}')\n",
    "print(f'maxi(3,2,2) = {maxi(3,2,2)}')\n",
    "print(f'maxi(3,1,2) = {maxi(3,1,2)}')\n",
    "print(f'maxi(3,2,3) = {maxi(3,2,3)}')\n",
    "print(f'maxi(2,1,3) = {maxi(2,1,3)}')\n",
    "print(f'maxi(3,3,2) = {maxi(3,3,2)}')\n",
    "print(f'maxi(3,3,3) = {maxi(3,3,3)}')\n",
    "print(f'maxi(2,2,3) = {maxi(2,2,3)}')\n",
    "print(f'maxi(2,3,1) = {maxi(2,3,1)}')\n",
    "print(f'maxi(2,3,2) = {maxi(2,3,2)}')\n",
    "print(f'maxi(1,3,2) = {maxi(1,3,2)}')\n",
    "print(f'maxi(2,3,3) = {maxi(2,3,3)}')\n",
    "print(f'maxi(1,2,3) = {maxi(1,2,3)}')\n"
   ]
  },
  {
   "cell_type": "markdown",
   "id": "78a3a389",
   "metadata": {},
   "source": [
    "(1-2) 는 maxi 라는 함수를 이용해서 작성한 프로그램 입니다.\n",
    "\n",
    "최댓값 계산이 잘 되었는지 print 해본 결과 출력이 잘 된 것을 확인할 수 있습니다.\n",
    "세 정수 값의 최댓값 구하기를 해본 결과, \n",
    "\n",
    "알고리즘은 어떠한 문제를 해결하기 위해 정해 놓은 일련의 절차 라는 것으로 정의 합니다.\n",
    "\n",
    "특히, 올바른 알고리즘이란 '어떠한 경우에도 실행 결과가 똑같이 나오는 것'을 말합니다. \n",
    "\n",
    "만약 알고리즘의 실행 결과가 어떤 경우에는 맞고 어떤 경우에는 틀리면 올바른 알고리즘이라고 말할 수 없습니다."
   ]
  },
  {
   "cell_type": "code",
   "execution_count": 7,
   "id": "334d2b71",
   "metadata": {},
   "outputs": [
    {
     "name": "stdout",
     "output_type": "stream",
     "text": [
      "세 정수의 중앙값을 구합니다.\n",
      "정수 a의 값을 입력하세요:1\n",
      "정수 b의 값을 입력하세요:2\n",
      "정수 c의 값을 입력하세요:3\n",
      "중앙값은 2입니다.\n"
     ]
    }
   ],
   "source": [
    "# 세 정수의 중앙값 구하기(1-3)\n",
    "\n",
    "def med3(a,b,c):\n",
    "    \"\"\"a,b,c의 중앙값을 구하여 반환\"\"\"\n",
    "    if a >= b :\n",
    "        if b >= c:\n",
    "            return b\n",
    "        elif a <= c :\n",
    "            return a\n",
    "        else :\n",
    "            return c\n",
    "    \n",
    "    elif a > c :\n",
    "        return a\n",
    "    elif b > c :\n",
    "        return C\n",
    "    else :\n",
    "        return b\n",
    "    \n",
    "print('세 정수의 중앙값을 구합니다.')\n",
    "a = int(input('정수 a의 값을 입력하세요:'))\n",
    "b = int(input('정수 b의 값을 입력하세요:'))\n",
    "c = int(input('정수 c의 값을 입력하세요:'))\n",
    "\n",
    "print(f'중앙값은 {med3(a,b,c)}입니다.')"
   ]
  },
  {
   "cell_type": "code",
   "execution_count": 8,
   "id": "ed9f0f2a",
   "metadata": {},
   "outputs": [
    {
     "name": "stdout",
     "output_type": "stream",
     "text": [
      "세 정수의 중앙값을 구합니다.\n",
      "정수 a의 값을 입력하세요:1\n",
      "정수 b의 값을 입력하세요:2\n",
      "정수 c의 값을 입력하세요:3\n",
      "중앙값은 2입니다.\n"
     ]
    }
   ],
   "source": [
    "# 세 정수의 중앙값 구하기(1-4)\n",
    "\n",
    "def med3(a,b,c):\n",
    "    \"\"\"a,b,c의 중앙값을 구하여 반환(다른 방법)\"\"\"\n",
    "    if (b >= a and c <= a) or (b <= a and c >=a):\n",
    "        return a\n",
    "    elif (a > b and c < b) or (a < b and c > b):\n",
    "        return b\n",
    "    return c\n",
    "\n",
    "print('세 정수의 중앙값을 구합니다.')\n",
    "a = int(input('정수 a의 값을 입력하세요:'))\n",
    "b = int(input('정수 b의 값을 입력하세요:'))\n",
    "c = int(input('정수 c의 값을 입력하세요:'))\n",
    "\n",
    "print(f'중앙값은 {med3(a,b,c)}입니다.')"
   ]
  },
  {
   "cell_type": "markdown",
   "id": "bf57e743",
   "metadata": {},
   "source": [
    "(1-4)에서 \n",
    "if (b >= a and c <= a) or (b <= a and c >=a):\n",
    "\n",
    "b >= a와 b <= a를 그대로 뒤집은 판단(a>b와 a<b)은 이어지는 elif문에서 수행된다.\n",
    "\n",
    "elif (a > b and c < b) or (a < b and c > b):\n",
    "\n",
    "elif문은 if문 조건식이 성립하지 않으면 판단을 수행할 필요가 없기 때문에 \n",
    "(1-4)는 효율적이지 않다고 할 수 있다."
   ]
  },
  {
   "cell_type": "markdown",
   "id": "69cd26b8",
   "metadata": {},
   "source": [
    "### 조건문과 분기\n",
    "(1-3)은 입력받은 정숫값의 부호(양수,음수,0)를 판단하여 출력하는 프로그램 입니다. \n",
    "\n",
    "다음 예제로 프로그램 흐름의 분기를 자세히 보겠습니다.\n",
    "\n",
    "** 분기(branching)는 프로그램 실행 흐름을 다른 곳으로 변경하는 명령을 뜻합니다."
   ]
  },
  {
   "cell_type": "code",
   "execution_count": 9,
   "id": "596cfffa",
   "metadata": {},
   "outputs": [
    {
     "name": "stdout",
     "output_type": "stream",
     "text": [
      "정수를 입력하세요:12\n",
      "이 수는 양수입니다.\n"
     ]
    }
   ],
   "source": [
    "# 입력받은 정수의 부호 (양수.음수,0) 출력하기 (1-5)\n",
    "\n",
    "a = int(input(\"정수를 입력하세요:\"))\n",
    "\n",
    "if a > 0 :\n",
    "    print(\"이 수는 양수입니다.\")\n",
    "elif a < 0 :\n",
    "    print(\"이 수는 음수입니다.\")\n",
    "else:\n",
    "    print(\"이 수는 0 입니다.\")\n"
   ]
  },
  {
   "cell_type": "code",
   "execution_count": 11,
   "id": "f0c1f634",
   "metadata": {},
   "outputs": [
    {
     "name": "stdout",
     "output_type": "stream",
     "text": [
      "정수를 입력하세요:-1\n",
      "C\n"
     ]
    }
   ],
   "source": [
    "# branching이 3개인 조건문 (1-6)\n",
    "\n",
    "b = int(input(\"정수를 입력하세요:\"))\n",
    "\n",
    "if b == 1:\n",
    "    print('A')\n",
    "elif b == 2:\n",
    "    print('B')\n",
    "else : \n",
    "    print('C')"
   ]
  },
  {
   "cell_type": "markdown",
   "id": "e8758169",
   "metadata": {},
   "source": [
    "(1-6)에서는 b가 1,2가 아니면 모두 C를 출력하는 것을 알 수 있습니다.\n",
    "\n",
    "즉, (1-4)와 마찬가지로 branching이 3개 인 것을 알 수 있습니다.\n",
    "\n",
    "다음은, branching 4개인 것을 보겠습니다."
   ]
  },
  {
   "cell_type": "code",
   "execution_count": 14,
   "id": "01aca8f1",
   "metadata": {},
   "outputs": [
    {
     "name": "stdout",
     "output_type": "stream",
     "text": [
      "정수를 입력하세요:-1\n"
     ]
    }
   ],
   "source": [
    "# branching이 4개인 조건문 (1-7)\n",
    "\n",
    "c = int(input(\"정수를 입력하세요:\"))\n",
    "\n",
    "if c == 1:\n",
    "    print(\"A\")\n",
    "elif c == 2:\n",
    "    print(\"B\")\n",
    "elif c==3:\n",
    "    print(\"C\")\n",
    "else:\n",
    "    pass  # 1,2,3 말고 다른 정수가 입력되면 pass가 실행된다."
   ]
  },
  {
   "cell_type": "markdown",
   "id": "d03902d2",
   "metadata": {},
   "source": [
    "# Chapter 2. 반복하는 알고리즘\n",
    "\n",
    "Chapter2 에서는 프로그램의 흐름을 반복하는 간단한 알고리즘을 살펴보겠습니다."
   ]
  },
  {
   "cell_type": "code",
   "execution_count": 15,
   "id": "e9bc25ba",
   "metadata": {},
   "outputs": [
    {
     "name": "stdout",
     "output_type": "stream",
     "text": [
      "1부터 n까지 정수의 합을 구합니다.\n",
      "n값을 입력하세요:10\n",
      "1부터 10까지 정수의 합은 55입니다.\n"
     ]
    }
   ],
   "source": [
    "# 1부터 n까지 정수의 합 구하기(while문) (2-1)\n",
    "\n",
    "print('1부터 n까지 정수의 합을 구합니다.')\n",
    "n = int(input('n값을 입력하세요:'))\n",
    "\n",
    "sum = 0\n",
    "i = 1\n",
    "\n",
    "while i <= n :  # i가 n보다 작거나 같은 동안 반복\n",
    "    sum += i    # sum에 i를 더함\n",
    "    i += 1      # i에 1을 더함\n",
    "    \n",
    "print(f'1부터 {n}까지 정수의 합은 {sum}입니다.')"
   ]
  },
  {
   "cell_type": "markdown",
   "id": "d4573cd0",
   "metadata": {},
   "source": [
    "## while 문 반복 알아보기\n",
    "\n",
    "어떤 조건이 성립하는 동안 반복해서 처리(프로그램 명령문 또는 명령어의 집합)하는 것을 \n",
    "\n",
    "반복 구조라 하고 일반적으로 루프(loop)라고 합니다.\n",
    "\n",
    "이 때, while 문은 실행하기 전에 반복을 계속할 것인지를 판단하는데\n",
    "\n",
    "이런 구조를 사전 판단 반복 구조라고 합니다.\n",
    "\n",
    "다음은 while 문의 형식으로 조건식의 평가가 참인 동안 프로그램의 명령문이 반복됩니다."
   ]
  },
  {
   "cell_type": "code",
   "execution_count": 17,
   "id": "46f440e3",
   "metadata": {},
   "outputs": [
    {
     "name": "stdout",
     "output_type": "stream",
     "text": [
      "1부터 n까지 정수의 합을 구합니다.\n",
      "n값을 입력하세요:5\n",
      "1부터 5까지 정수의 합은 15입니다.\n",
      "i값은 6 입니다.\n"
     ]
    },
    {
     "data": {
      "text/plain": [
       "' 반복을 제어할 때 사용하는 i를 카운터용 변수라고 합니다.'"
      ]
     },
     "execution_count": 17,
     "metadata": {},
     "output_type": "execute_result"
    }
   ],
   "source": [
    "# while 조건식 : 명령문 \n",
    "# 1부터 n까지 정수의 합 구하기(while문) (2-1-1)\n",
    "\n",
    "print('1부터 n까지 정수의 합을 구합니다.')\n",
    "n = int(input('n값을 입력하세요:'))\n",
    "\n",
    "sum = 0\n",
    "i = 1\n",
    "\n",
    "while i <= n :  # i가 n보다 작거나 같은 동안 반복\n",
    "    sum += i    # sum에 i를 더함\n",
    "    i += 1      # i에 1을 더함\n",
    "    \n",
    "print(f'1부터 {n}까지 정수의 합은 {sum}입니다.')\n",
    "print(f'i값은 {i} 입니다.') # 카운터용 변수\n",
    "\n",
    "\"\"\" 반복을 제어할 때 사용하는 i를 카운터용 변수라고 합니다.\"\"\"\n"
   ]
  },
  {
   "cell_type": "markdown",
   "id": "cf0916f2",
   "metadata": {},
   "source": [
    "## for 문 반복 알아보기\n",
    "\n",
    "변수가 하나만 있을 때는 while 문 보다 for문을 사용하는 것이 좋습니다.\n",
    "\n",
    "아래 예제에서는 1부터 n까지 정수의 합을 for문으로 구하는 프로그램 입니다."
   ]
  },
  {
   "cell_type": "code",
   "execution_count": 20,
   "id": "c82faaec",
   "metadata": {},
   "outputs": [
    {
     "name": "stdout",
     "output_type": "stream",
     "text": [
      "1부터 n까지 정수의 합을 구합니다.\n",
      "n값을 입력하세요:10\n",
      "1부터 10까지 정수의 합은 55입니다.\n"
     ]
    }
   ],
   "source": [
    "# 1부터 n까지 정수의 합 구하기(for문) (2-2)\n",
    "\n",
    "print('1부터 n까지 정수의 합을 구합니다.')\n",
    "n = int(input('n값을 입력하세요:'))\n",
    "\n",
    "sum = 0\n",
    "for i in range(1, n+1):\n",
    "    sum += i\n",
    "    \n",
    "    \n",
    "print(f'1부터 {n}까지 정수의 합은 {sum}입니다.')"
   ]
  },
  {
   "cell_type": "code",
   "execution_count": 22,
   "id": "5848bd7e",
   "metadata": {},
   "outputs": [
    {
     "name": "stdout",
     "output_type": "stream",
     "text": [
      "1부터 n까지 정수의 합을 구합니다.\n",
      "n값을 입력하세요:10\n",
      "55\n"
     ]
    }
   ],
   "source": [
    "# # 1부터 n까지 정수의 합 구하기(가우스의 덧셈) (2-2-1)\n",
    "\n",
    "print('1부터 n까지 정수의 합을 구합니다.')\n",
    "n = int(input('n값을 입력하세요:'))\n",
    "\n",
    "sum = n * (n + 1) // 2\n",
    "print(sum)"
   ]
  },
  {
   "cell_type": "markdown",
   "id": "a9aa12f2",
   "metadata": {},
   "source": [
    "### 연속하는 정수의 합 구하기 위해 값 정렬하기\n",
    "\n",
    "연속하는 정수의 합을 구할 때 시작하는 값이 1이 아닌 정수를 입력 받았다면 range() 함수에\n",
    "\n",
    "전달할 시작값과 끝값을 오름차순으로 정렬해야 합니다.\n",
    "\n",
    "아래 예제에서 두 정수 a,b를 오름차순으로 정렬하고 모든 정수를 더하는 것을 보겠습니다."
   ]
  },
  {
   "cell_type": "code",
   "execution_count": 25,
   "id": "e00419df",
   "metadata": {},
   "outputs": [
    {
     "name": "stdout",
     "output_type": "stream",
     "text": [
      "a부터 b까지 정수의 합을 구합니다.\n",
      "a값을 입력하세요:3\n",
      "b값을 입력하세요:10\n",
      "3부터 10까지의 합은 52 입니다.\n"
     ]
    }
   ],
   "source": [
    "# a부터 b까지 정수의 합 구하기(for문) (2-3)\n",
    "\n",
    "print('a부터 b까지 정수의 합을 구합니다.')\n",
    "a = int(input('a값을 입력하세요:'))\n",
    "b = int(input('b값을 입력하세요:'))\n",
    "\n",
    "if a > b :\n",
    "    a,b = b,a # a,b 오름차순 정렬\n",
    "\n",
    "# a,b = b,a  a와 b의 값을 교환(단일 대입문 사용)\n",
    "sum = 0\n",
    "for i in range(a , b+1) :\n",
    "    sum += i\n",
    "\n",
    "print(f'{a}부터 {b}까지의 합은 {sum} 입니다.')"
   ]
  },
  {
   "cell_type": "code",
   "execution_count": null,
   "id": "d9a6e514",
   "metadata": {},
   "outputs": [],
   "source": []
  }
 ],
 "metadata": {
  "kernelspec": {
   "display_name": "Python 3 (ipykernel)",
   "language": "python",
   "name": "python3"
  },
  "language_info": {
   "codemirror_mode": {
    "name": "ipython",
    "version": 3
   },
   "file_extension": ".py",
   "mimetype": "text/x-python",
   "name": "python",
   "nbconvert_exporter": "python",
   "pygments_lexer": "ipython3",
   "version": "3.9.13"
  }
 },
 "nbformat": 4,
 "nbformat_minor": 5
}
