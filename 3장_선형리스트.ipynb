{
 "cells": [
  {
   "cell_type": "code",
   "execution_count": 50,
   "id": "fa6db445",
   "metadata": {},
   "outputs": [
    {
     "name": "stdout",
     "output_type": "stream",
     "text": [
      "['다현', '정연', '쯔위', '사나', '지효']\n"
     ]
    }
   ],
   "source": [
    "# 선형 리스트 간단 구현\n",
    "katok = ['다현','정연','쯔위','사나','지효']\n",
    "print(katok)"
   ]
  },
  {
   "cell_type": "code",
   "execution_count": 51,
   "id": "421f6422",
   "metadata": {},
   "outputs": [
    {
     "name": "stdout",
     "output_type": "stream",
     "text": [
      "다현\n",
      "지효\n"
     ]
    }
   ],
   "source": [
    "# 배열은 0번째부터 시작\n",
    "print(katok[0])\n",
    "print(katok[-1]) # 마지막 순서 출력 "
   ]
  },
  {
   "cell_type": "code",
   "execution_count": 52,
   "id": "6aa98dfd",
   "metadata": {},
   "outputs": [
    {
     "name": "stdout",
     "output_type": "stream",
     "text": [
      "['다현', '정연', '쯔위', '사나', '지효', None]\n"
     ]
    }
   ],
   "source": [
    "# 선형 리스트 마지막에 빈칸 추가\n",
    "# 마지막에 삽입하기\n",
    "\n",
    "katok.append(None)\n",
    "print(katok)"
   ]
  },
  {
   "cell_type": "code",
   "execution_count": 53,
   "id": "c1ea6fb9",
   "metadata": {},
   "outputs": [
    {
     "name": "stdout",
     "output_type": "stream",
     "text": [
      "['다현', '정연', '쯔위', '사나', '지효', '모모']\n"
     ]
    }
   ],
   "source": [
    "katok[5] = '모모' # 마지막 빈칸에 원소 삽입 \n",
    "# katok[-1] 가능 \n",
    "print(katok)"
   ]
  },
  {
   "cell_type": "code",
   "execution_count": 54,
   "id": "aa4ec855",
   "metadata": {},
   "outputs": [
    {
     "name": "stdout",
     "output_type": "stream",
     "text": [
      "['다현', '정연', '쯔위', '사나', '지효', '모모', None]\n"
     ]
    }
   ],
   "source": [
    "katok.append(None)\n",
    "print(katok)\n",
    "\n"
   ]
  },
  {
   "cell_type": "code",
   "execution_count": 55,
   "id": "24f2ed39",
   "metadata": {},
   "outputs": [
    {
     "name": "stdout",
     "output_type": "stream",
     "text": [
      "['다현', '정연', '쯔위', '사나', '지효', None, '모모']\n"
     ]
    }
   ],
   "source": [
    "katok[6] = katok[5]\n",
    "katok[5] = None\n",
    "print(katok)"
   ]
  },
  {
   "cell_type": "code",
   "execution_count": 56,
   "id": "5f4ef69b",
   "metadata": {},
   "outputs": [
    {
     "name": "stdout",
     "output_type": "stream",
     "text": [
      "['다현', '정연', '쯔위', '사나', None, '지효', '모모']\n"
     ]
    }
   ],
   "source": [
    "katok[5] = katok[4]\n",
    "katok[4] = None\n",
    "print(katok)"
   ]
  },
  {
   "cell_type": "code",
   "execution_count": 57,
   "id": "09e27103",
   "metadata": {},
   "outputs": [
    {
     "name": "stdout",
     "output_type": "stream",
     "text": [
      "['다현', '정연', '쯔위', None, '사나', '지효', '모모']\n"
     ]
    }
   ],
   "source": [
    "katok[4] = katok[3]\n",
    "katok[3] = None\n",
    "print(katok)"
   ]
  },
  {
   "cell_type": "code",
   "execution_count": 58,
   "id": "6d9c9f7d",
   "metadata": {
    "scrolled": true
   },
   "outputs": [
    {
     "name": "stdout",
     "output_type": "stream",
     "text": [
      "['다현', '정연', '쯔위', '미나', '사나', '지효', '모모']\n"
     ]
    }
   ],
   "source": [
    "katok[3] = '미나'\n",
    "print(katok)"
   ]
  },
  {
   "cell_type": "code",
   "execution_count": 59,
   "id": "c1518f77",
   "metadata": {},
   "outputs": [
    {
     "name": "stdout",
     "output_type": "stream",
     "text": [
      "['다현', '정연', '쯔위', None, '사나', '지효', '모모']\n"
     ]
    }
   ],
   "source": [
    "# 데이터 삭제\n",
    "# 미나 삭제 \n",
    "katok[3] = None\n",
    "print(katok)"
   ]
  },
  {
   "cell_type": "code",
   "execution_count": 60,
   "id": "355a552d",
   "metadata": {},
   "outputs": [
    {
     "name": "stdout",
     "output_type": "stream",
     "text": [
      "['다현', '정연', '쯔위', '사나', '지효', '모모', None]\n"
     ]
    }
   ],
   "source": [
    "katok[3] = katok[4]\n",
    "katok[4] = None\n",
    "katok[4] = katok[5]\n",
    "katok[5] = None\n",
    "katok[5] = katok[6]\n",
    "katok[-1] = None\n",
    "print(katok)"
   ]
  },
  {
   "cell_type": "code",
   "execution_count": 61,
   "id": "4d0778a8",
   "metadata": {},
   "outputs": [
    {
     "name": "stdout",
     "output_type": "stream",
     "text": [
      "['다현', '정연', '쯔위', '사나', '사나', '모모']\n"
     ]
    }
   ],
   "source": [
    "del(katok[-1])\n",
    "katok[-2] = '사나'\n",
    "print(katok)"
   ]
  },
  {
   "cell_type": "code",
   "execution_count": 62,
   "id": "ee5ed628",
   "metadata": {},
   "outputs": [
    {
     "name": "stdout",
     "output_type": "stream",
     "text": [
      "[]\n"
     ]
    }
   ],
   "source": [
    "# 선형 리스트 일반 구현 \n",
    "katok =[]\n",
    "print(katok)"
   ]
  },
  {
   "cell_type": "code",
   "execution_count": 63,
   "id": "e1664831",
   "metadata": {},
   "outputs": [
    {
     "name": "stdout",
     "output_type": "stream",
     "text": [
      "['다현']\n"
     ]
    }
   ],
   "source": [
    "katok.append(None)\n",
    "list_length = len(katok)\n",
    "katok[list_length-1] = '다현'\n",
    "print(katok)"
   ]
  },
  {
   "cell_type": "code",
   "execution_count": 64,
   "id": "28140c9b",
   "metadata": {},
   "outputs": [
    {
     "name": "stdout",
     "output_type": "stream",
     "text": [
      "['다현', '정연']\n"
     ]
    }
   ],
   "source": [
    "katok.append(None)\n",
    "list_length = len(katok)\n",
    "katok[list_length-1] = '정연'\n",
    "print(katok)"
   ]
  },
  {
   "cell_type": "code",
   "execution_count": 72,
   "id": "5b190785",
   "metadata": {},
   "outputs": [
    {
     "name": "stdout",
     "output_type": "stream",
     "text": [
      "['친구1', '친구2']\n"
     ]
    }
   ],
   "source": [
    "#katok = []\n",
    "\n",
    "#def add_data(친구):\n",
    "    katok.append(None)\n",
    "    list_len = len(katok)\n",
    "    katok[list_len - 1] = 친구\n",
    "\n",
    "#add_data('친구1')\n",
    "#add_data('친구2')\n",
    "#print(katok)"
   ]
  },
  {
   "cell_type": "code",
   "execution_count": 76,
   "id": "f9b5e679",
   "metadata": {},
   "outputs": [
    {
     "name": "stdout",
     "output_type": "stream",
     "text": [
      "['친구1', '친구2', '솔라', '친구3', '친구4', '친구5']\n",
      "['친구1', '친구2', '솔라', '친구3', '도레', '친구4', '친구5']\n"
     ]
    }
   ],
   "source": [
    "# 중간 지정 데이터 삽입\n",
    "# 데이터 삽입 함수\n",
    "\n",
    "freinds =['친구1','친구2','친구3','친구4','친구5']\n",
    "\n",
    "def insert_data(position,freind):\n",
    "    if position < 0 or position > len(freinds):\n",
    "        print('범위에서 벗어났습니다')\n",
    "        return\n",
    "\n",
    "    freinds.append(None) # 빈칸추가 \n",
    "    kLen =len(freinds) # 배열의 현재 크기 \n",
    "    \n",
    "    for i in range(kLen-1,position,-1):\n",
    "        freinds[i] = freinds[i-1]\n",
    "        freinds[i-1] = None\n",
    "    \n",
    "    freinds[position]= freind\n",
    "    \n",
    "insert_data(2,'솔라')\n",
    "print(freinds)\n",
    "insert_data(4,'도레')\n",
    "print(freinds)"
   ]
  },
  {
   "cell_type": "code",
   "execution_count": 81,
   "id": "180e8799",
   "metadata": {},
   "outputs": [
    {
     "name": "stdout",
     "output_type": "stream",
     "text": [
      "['친구6', '친구7', '친구8', '친구10']\n",
      "['친구6', '친구7', '친구10']\n"
     ]
    }
   ],
   "source": [
    "freinds2 =['친구6','친구7','친구8','친구9','친구10']\n",
    "\n",
    "def delete_data(position):\n",
    "    if position < 0 or position > len(freinds2):\n",
    "        print('범위에서 벗어났습니다.')\n",
    "        return\n",
    "    length = len(freinds2)\n",
    "    freinds2[position] = None # 데이터 삭제\n",
    "    \n",
    "    for i in range(position+1 , length):\n",
    "        freinds2[i-1] = freinds2[i]\n",
    "        freinds2[i] =None\n",
    "    \n",
    "    del(freinds2[length-1])\n",
    "\n",
    "\n",
    "delete_data(3)\n",
    "print(freinds2)\n",
    "delete_data(2)\n",
    "print(freinds2)\n",
    "    "
   ]
  },
  {
   "cell_type": "code",
   "execution_count": 82,
   "id": "cd078589",
   "metadata": {},
   "outputs": [
    {
     "name": "stdout",
     "output_type": "stream",
     "text": [
      "선택하세요(1: 추가, 2: 삽입, 3: 삭제, 4: 종료)--> 1\n",
      "추가할 데이터--> 아주대\n",
      "['아주대']\n",
      "선택하세요(1: 추가, 2: 삽입, 3: 삭제, 4: 종료)--> 4\n",
      "['아주대']\n"
     ]
    }
   ],
   "source": [
    "## 함수 선언 부분 ## \n",
    "def add_data(friend) :\n",
    "    \n",
    "\tkatok.append(None)\n",
    "\tkLen = len(katok)\n",
    "\tkatok[kLen-1] = friend\n",
    "\n",
    "\n",
    "def insert_data(position, friend) :\n",
    "    \n",
    "\tif position < 0 or position > len(katok) :\n",
    "\t\tprint(\"데이터를 삽입할 범위를 벗어났습니다.\")\n",
    "\t\treturn\n",
    "    \n",
    "\tkatok.append(None)   # 빈칸 추가\n",
    "\tkLen = len(katok)       # 배열의 현재 크기\n",
    "\n",
    "\tfor i in range(kLen-1, position, -1) :\n",
    "\t\tkatok[i] = katok[i-1]\n",
    "\t\tkatok[i-1] = None \n",
    "\n",
    "\tkatok[position] = friend   # 배열의 제일 뒤에 친구 추가\n",
    "\n",
    "\n",
    "def delete_data(position) :\n",
    "    \n",
    "\tif position < 0 or position > len(katok) :\n",
    "\t\tprint(\"데이터를 삭제할 범위를 벗어났습니다.\")\n",
    "\t\treturn\n",
    "\n",
    "\tkLen = len(katok)\n",
    "\tkatok[position] = None\t# 데이터 삭제\n",
    "    \n",
    "\tfor i in range(position+1, kLen) :\n",
    "\t\tkatok[i-1] = katok[i]\n",
    "\t\tkatok[i] = None\t# 배열의 제일 위치 삭제\n",
    "\n",
    "\tdel(katok[kLen-1])\n",
    "    \n",
    "\n",
    "## 전역 변수 선언 부분 ## \n",
    "katok = []\n",
    "select = -1\t# 1: 추가, 2: 삽입, 3: 삭제, 4: 종료\n",
    "\n",
    "\n",
    "## 메인 코드 부분 ## \n",
    "if __name__ == \"__main__\" :\n",
    "    \n",
    "\twhile (select != 4) :\n",
    "\n",
    "\t\tselect = int(input(\"선택하세요(1: 추가, 2: 삽입, 3: 삭제, 4: 종료)--> \"))\n",
    "\n",
    "\t\tif (select == 1) :\n",
    "\t\t\tdata = input(\"추가할 데이터--> \")\n",
    "\t\t\tadd_data(data)\n",
    "\t\t\tprint(katok)\n",
    "\t\telif (select == 2) :\n",
    "\t\t\tpos = int(input(\"삽입할 위치--> \"))\n",
    "\t\t\tdata = input(\"추가할 데이터--> \")\n",
    "\t\t\tinsert_data(pos, data)\n",
    "\t\t\tprint(katok)\n",
    "\t\telif (select == 3) :\n",
    "\t\t\tpos = int(input(\"삭제할 위치--> \"))\n",
    "\t\t\tdelete_data(pos)\n",
    "\t\t\tprint(katok)\n",
    "\t\telif (select == 4) :\n",
    "\t\t\tprint(katok)\n",
    "\t\t\texit\n",
    "\t\telse :\n",
    "\t\t\tprint(\"1~4 중 하나를 입력하세요.\")"
   ]
  },
  {
   "cell_type": "markdown",
   "id": "0936b5b3",
   "metadata": {},
   "source": [
    "## 연습문제 "
   ]
  },
  {
   "cell_type": "code",
   "execution_count": 83,
   "id": "e3c2a3ad",
   "metadata": {},
   "outputs": [
    {
     "name": "stdout",
     "output_type": "stream",
     "text": [
      "['다현', '정연', '쯔위', '사나', '지효', '모모', None]\n"
     ]
    }
   ],
   "source": [
    "kakao = ['다현','정연','쯔위','사나','지효']\n",
    "# Todo\n",
    "kakao.append('모모')\n",
    "kakao.append(None)\n",
    "print(kakao)\n",
    "\n",
    "# ['다현','정연','쯔위','사나','지효','모모',None]"
   ]
  },
  {
   "cell_type": "code",
   "execution_count": 84,
   "id": "b69f6cad",
   "metadata": {},
   "outputs": [
    {
     "name": "stdout",
     "output_type": "stream",
     "text": [
      "['다현', '정연', '쯔위', '미나', '지효', '모모']\n"
     ]
    }
   ],
   "source": [
    "kakao2 = ['다현','정연','쯔위','미나','지효','모모',None]\n",
    "del kakao2[-1]\n",
    "print(kakao2)"
   ]
  },
  {
   "cell_type": "code",
   "execution_count": 86,
   "id": "c45898ab",
   "metadata": {},
   "outputs": [],
   "source": [
    "# 선형리스트에 데이터를 추가하는 함수\n",
    "\n",
    "def insert_data(position,freind):\n",
    "    katok.append(None)\n",
    "    kLen = len(katok)\n",
    "    for i in range(kLen-1,position,-1):\n",
    "        katok[i] = katok[i-1]\n",
    "        katok[i-1] = None\n",
    "    katok[position] = freind\n"
   ]
  },
  {
   "cell_type": "markdown",
   "id": "2500d56d",
   "metadata": {},
   "source": [
    "## 응용예제 "
   ]
  },
  {
   "cell_type": "code",
   "execution_count": null,
   "id": "7c03a24c",
   "metadata": {},
   "outputs": [],
   "source": []
  }
 ],
 "metadata": {
  "kernelspec": {
   "display_name": "Python 3 (ipykernel)",
   "language": "python",
   "name": "python3"
  },
  "language_info": {
   "codemirror_mode": {
    "name": "ipython",
    "version": 3
   },
   "file_extension": ".py",
   "mimetype": "text/x-python",
   "name": "python",
   "nbconvert_exporter": "python",
   "pygments_lexer": "ipython3",
   "version": "3.9.13"
  }
 },
 "nbformat": 4,
 "nbformat_minor": 5
}
